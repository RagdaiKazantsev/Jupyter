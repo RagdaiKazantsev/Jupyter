{
 "cells": [
  {
   "cell_type": "code",
   "execution_count": 1,
   "metadata": {},
   "outputs": [],
   "source": [
    "import matplotlib.pyplot as plt\n",
    "import numpy as np"
   ]
  },
  {
   "cell_type": "code",
   "execution_count": 2,
   "metadata": {},
   "outputs": [
    {
     "name": "stdout",
     "output_type": "stream",
     "text": [
      "Wall time: 16.9 ms\n"
     ]
    }
   ],
   "source": [
    "%%time\n",
    "\n",
    "log, cosh, e, sqrt = np.log, np.cosh, np.exp, np.sqrt\n",
    "exp = e\n",
    "\n",
    "a1 = 6\n",
    "a2 = 4\n",
    "a3 = 2\n",
    "a_1 = a1\n",
    "a_2 = a2\n",
    "a_3 = a3\n",
    "\n",
    "s1 = 0\n",
    "s2 = 0\n",
    "s3 = 0\n",
    "\n",
    "b1 = a1*(1+a1**2)**(1/2)\n",
    "b2 = a2*(1+a2**2)**(1/2)\n",
    "b3 = a3*(1+a3**2)**(1/2)\n",
    "\n",
    "A = (2*a1**2-3*a1*a2+2*a2**2-b1/a1*b2/a2+1)/\\\n",
    "    (2*a1**2+3*a1*a2+2*a2**2-b1/a1*b2/a2+1)\n",
    "\n",
    "B = (2*a1**2-3*a1*a3+2*a3**2-b1/a1*b3/a3+1)/\\\n",
    "    (2*a1**2+3*a1*a3+2*a3**2-b1/a1*b3/a3+1)\n",
    "\n",
    "C = (2*a2**2-3*a2*a3+2*a3**2-b2/a2*b3/a3+1)/\\\n",
    "    (2*a2**2+3*a2*a3+2*a3**2-b2/a2*b3/a3+1)\n",
    "\n",
    "D = (A*(a_1**3*(-2*a_2 + 2*a_3) + a_1**2*(-3*a_2**2 + 6*a_2*a_3 - 3*a_3**2) + a_1*(-2*a_2**3 + 6*a_2**2*a_3 - 6*a_2*a_3**2 + a_2*sqrt(a_1**2 + 1)*sqrt(a_2**2 + 1) - a_2 + 2*a_3**3 - a_3*sqrt(a_1**2 + 1)*sqrt(a_3**2 + 1) + a_3) + 2*a_2**3*a_3 - 3*a_2**2*a_3**2 + a_2*(2*a_3**3 - a_3*sqrt(a_2**2 + 1)*sqrt(a_3**2 + 1) + a_3))\\\n",
    "    +B*(a_1**3*(2*a_2 - 2*a_3) + a_1**2*(-3*a_2**2 + 6*a_2*a_3 - 3*a_3**2) + a_1*(2*a_2**3 - 6*a_2**2*a_3 + 6*a_2*a_3**2 - a_2*sqrt(a_1**2 + 1)*sqrt(a_2**2 + 1) + a_2 - 2*a_3**3 + a_3*sqrt(a_1**2 + 1)*sqrt(a_3**2 + 1) - a_3) + 2*a_2**3*a_3 - 3*a_2**2*a_3**2 + a_2*(2*a_3**3 - a_3*sqrt(a_2**2 + 1)*sqrt(a_3**2 + 1) + a_3))\\\n",
    "    +C*(a_1**3*(2*a_2 + 2*a_3) + a_1**2*(-3*a_2**2 - 6*a_2*a_3 - 3*a_3**2) + a_1*(2*a_2**3 + 6*a_2**2*a_3 + 6*a_2*a_3**2 - a_2*sqrt(a_1**2 + 1)*sqrt(a_2**2 + 1) + a_2 + 2*a_3**3 - a_3*sqrt(a_1**2 + 1)*sqrt(a_3**2 + 1) + a_3) - 2*a_2**3*a_3 - 3*a_2**2*a_3**2 + a_2*(-2*a_3**3 + a_3*sqrt(a_2**2 + 1)*sqrt(a_3**2 + 1) - a_3))\n",
    "    )/\\\n",
    "    ((a_1 + a_2 + a_3)**4 + (a_1 + a_2 + a_3)**2 - (a_1*sqrt(a_1**2 + 1) + a_2*sqrt(a_2**2 + 1) + a_3*sqrt(a_3**2 + 1))**2)\n",
    "\n",
    "\n",
    "s12 = log(A)\n",
    "s13 = log(B)\n",
    "s23 = log(C)\n",
    "s123 = log(D)"
   ]
  },
  {
   "cell_type": "code",
   "execution_count": 3,
   "metadata": {},
   "outputs": [
    {
     "name": "stdout",
     "output_type": "stream",
     "text": [
      "Wall time: 1.08 s\n"
     ]
    }
   ],
   "source": [
    "%%time\n",
    "\n",
    "t = np.linspace(-1, 1, 1000)\n",
    "x = np.linspace(-10, 10, 1000)\n",
    "\n",
    "xx, tt = np.meshgrid(x, t, sparse=True)\n",
    "\n",
    "\n",
    "o1 = a1*xx-b1*tt+s1\n",
    "o2 = a2*xx-b2*tt+s2\n",
    "o3 = a3*xx-b3*tt+s3\n",
    "\n",
    "\n",
    "U = (-2*(a_1*exp(o1) + a_2*exp(o2) + a_3*exp(o3) + (a_1 + a_2)*exp(s12 + o1 + o2) + (a_1 + a_3)*exp(s13 + o1 + o3) + (a_2 + a_3)*exp(s23 + o2 + o3) + (a_1 + a_2 + a_3)*exp(s123 + o1 + o2 + o3))**2 + 2*(a_1**2*exp(o1) + a_2**2*exp(o2) + a_3**2*exp(o3) + (a_1 + a_2)**2*exp(s12 + o1 + o2) + (a_1 + a_3)**2*exp(s13 + o1 + o3) + (a_2 + a_3)**2*exp(s23 + o2 + o3) + (a_1 + a_2 + a_3)**2*exp(s123 + o1 + o2 + o3))*(exp(o1) + exp(o2) + exp(o3) + exp(s12 + o1 + o2) + exp(s13 + o1 + o3) + exp(s23 + o2 + o3) + exp(s123 + o1 + o2 + o3) + 1))/\\\n",
    "    ((exp(o1) + exp(o2) + exp(o3) + exp(s12 + o1 + o2) + exp(s13 + o1 + o3) + exp(s23 + o2 + o3) + exp(s123 + o1 + o2 + o3) + 1)**2)\n"
   ]
  },
  {
   "cell_type": "code",
   "execution_count": 5,
   "metadata": {},
   "outputs": [
    {
     "data": {
      "text/plain": [
       "(0.0, 50.0)"
      ]
     },
     "execution_count": 5,
     "metadata": {},
     "output_type": "execute_result"
    }
   ],
   "source": [
    "%matplotlib qt\n",
    "\n",
    "fig = plt.figure(figsize=(20,10))\n",
    "ax = plt.subplot(projection=\"3d\")\n",
    "\n",
    "\n",
    "# rstride и cstride по-умолчанию равны 10\n",
    "# при rstride=1 и cstride=1 совсем виснет\n",
    "surf = ax.plot_surface(xx, tt, U, cmap=\"gnuplot\",\n",
    "                       rstride=5, cstride=5)\n",
    "\n",
    "fig.colorbar(surf);\n",
    "ax.set_zlim(0, 50)"
   ]
  },
  {
   "cell_type": "code",
   "execution_count": 53,
   "metadata": {},
   "outputs": [],
   "source": [
    "plt.figure()\n",
    "\n",
    "plt.pcolormesh(xx, tt, U, cmap=\"gnuplot\", shading=\"nearest\")\n",
    "\n",
    "plt.colorbar();"
   ]
  },
  {
   "cell_type": "code",
   "execution_count": null,
   "metadata": {},
   "outputs": [],
   "source": []
  }
 ],
 "metadata": {
  "kernelspec": {
   "display_name": "Python 3",
   "language": "python",
   "name": "python3"
  },
  "language_info": {
   "codemirror_mode": {
    "name": "ipython",
    "version": 3
   },
   "file_extension": ".py",
   "mimetype": "text/x-python",
   "name": "python",
   "nbconvert_exporter": "python",
   "pygments_lexer": "ipython3",
   "version": "3.8.3"
  }
 },
 "nbformat": 4,
 "nbformat_minor": 4
}
